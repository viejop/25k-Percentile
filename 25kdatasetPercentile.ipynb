{
  "metadata": {
    "kernelspec": {
      "name": "xpython",
      "display_name": "Python 3.13 (XPython)",
      "language": "python"
    },
    "language_info": {
      "file_extension": ".py",
      "mimetype": "text/x-python",
      "name": "python",
      "version": "3.13.1"
    }
  },
  "nbformat_minor": 5,
  "nbformat": 4,
  "cells": [
    {
      "id": "44ead6c1-19f8-4c07-bdaf-dfe86ea906d7",
      "cell_type": "code",
      "source": "import numpy as np\n\nheightsWeights = np.loadtxt(\"SOCR-HeightWeight.csv\", delimiter=\",\", skiprows=1, usecols=(1, 2))\n\nheights = heightsWeights[:, 0]\nweights = heightsWeights[:, 1]\n\ndef getPercentile(value, data):\n\n    return np.sum(data <= value) / len(data) * 100\n\n#hard code\nmyHeight = 72.25  # inches\nmyWeight = 145  # pounds\n\nmyHeightPercentile = getPercentile(myHeight, heights)\nmyWeightPercentile = getPercentile(myWeight, weights)\n\nprint(f\"Height of {myHeight} is in the {myHeightPercentile:.0f}th percentile.\")\nprint(f\"Weight of {myWeight} lbs is in the {myWeightPercentile:.0f}th percentile.\")\n\nuserHeight = float(input(\"Input your height in inches:\"))\nuserWeight = float(input(\"Input your weight in pounds:\"))\n\nuserHeightPercentile = getPercentile(userHeight, heights)\nuserWeightPercentile = getPercentile(userWeight, weights)\n\nprint(f\"Your Height of {userHeight} inches is in the {userHeightPercentile:.0f}th percentile.\")\nprint(f\"Your Weight of {userWeight} pounds is in the {userWeightPercentile:.0f}th percentile.\")",
      "metadata": {
        "trusted": true
      },
      "outputs": [
        {
          "name": "stdout",
          "output_type": "stream",
          "text": "Height of 72.25 is in the 99th percentile.\nWeight of 145 lbs is in the 94th percentile.\n"
        },
        {
          "output_type": "stream",
          "name": "stdin",
          "text": "Input your height in inches: 66\nInput your weight in pounds: 133\n"
        },
        {
          "name": "stdout",
          "output_type": "stream",
          "text": "Your Height of 66.0 inches is in the 15th percentile.\nYour Weight of 133.0 pounds is in the 69th percentile.\n"
        }
      ],
      "execution_count": 9
    },
    {
      "id": "a1a491ff-848e-4823-88b4-9bec5677619a",
      "cell_type": "code",
      "source": "",
      "metadata": {
        "trusted": true
      },
      "outputs": [],
      "execution_count": null
    }
  ]
}